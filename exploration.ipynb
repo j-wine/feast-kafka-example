{
 "cells": [
  {
   "cell_type": "code",
   "execution_count": 1,
   "id": "00e5152d-e5df-405a-8305-42ef52f6210d",
   "metadata": {},
   "outputs": [],
   "source": [
    "%load_ext autoreload\n",
    "%autoreload 2"
   ]
  },
  {
   "cell_type": "code",
   "execution_count": 2,
   "id": "78777173-64fd-4f2a-b7a4-a4b75212ca4e",
   "metadata": {},
   "outputs": [],
   "source": [
    "import json\n",
    "import signal\n",
    "import sys\n",
    "import datetime\n",
    "\n",
    "from pathlib import Path\n",
    "from IPython.display import HTML, display\n",
    "import pandas as pd\n",
    "import pyarrow as pa\n",
    "import pyarrow.parquet as pq\n",
    "from feast import FeatureStore\n",
    "from feast.data_source import PushMode\n",
    "\n",
    "from typing import List\n",
    "import pprint"
   ]
  },
  {
   "cell_type": "code",
   "execution_count": 7,
   "id": "f930c20f-b10f-49d6-9941-7c5ad1bbf62f",
   "metadata": {},
   "outputs": [],
   "source": [
    "try:\n",
    "    repo_path = Path(\"./src/feast_example/feature_repo/\")\n",
    "    fs = FeatureStore(repo_path=str(repo_path.resolve()))\n",
    "except Exception as e:\n",
    "    print(e)"
   ]
  },
  {
   "cell_type": "code",
   "execution_count": 8,
   "id": "99d8b17b-e8d7-4567-a97b-1ff3689cd549",
   "metadata": {},
   "outputs": [
    {
     "name": "stdout",
     "output_type": "stream",
     "text": [
      "[<feast.entity.Entity object at 0x14fdb22a0>]\n"
     ]
    }
   ],
   "source": [
    "entities = fs.list_entities()\n",
    "print(entities)"
   ]
  },
  {
   "cell_type": "code",
   "execution_count": 29,
   "id": "97a7346e-ae9a-4121-a7c6-d3877d866bb0",
   "metadata": {},
   "outputs": [
    {
     "name": "stderr",
     "output_type": "stream",
     "text": [
      "WARNING:root:_list_feature_views will make breaking changes. Please use _list_batch_feature_views instead. _list_feature_views will behave like _list_all_feature_views in the future.\n"
     ]
    },
    {
     "name": "stdout",
     "output_type": "stream",
     "text": [
      "  sensor_name         max       min\n",
      "0    sensor_0  114.856389  0.146138\n",
      "1    sensor_1  114.817104  0.150932\n",
      "2    sensor_2  114.927008  0.188886\n",
      "3    sensor_3  114.926699  0.189912\n",
      "4    sensor_4  114.735075  0.123345\n",
      "5    sensor_5  114.959504  0.202737\n",
      "6    sensor_6  114.852219  0.075619\n",
      "7    sensor_7  114.269348  0.363851\n",
      "8    sensor_8  114.869220  0.107589\n",
      "9    sensor_9  114.858002  0.824234\n"
     ]
    },
    {
     "name": "stderr",
     "output_type": "stream",
     "text": [
      "/Users/matt/code/pnl/feast_example/.venv/lib/python3.12/site-packages/feast/infra/online_stores/sqlite.py:220: DeprecationWarning: The default timestamp converter is deprecated as of Python 3.12; see the sqlite3 documentation for suggested replacement recipes\n",
      "  rows = cur.fetchall()\n"
     ]
    }
   ],
   "source": [
    "feature_vector = fs.get_online_features(\n",
    "    features=[\n",
    "        \"sensor_statistics:max\",\n",
    "        \"sensor_statistics:min\",\n",
    "    ],\n",
    "    entity_rows=[\n",
    "        {\"sensor_name\": f\"sensor_{x}\"} for x in range(0, 10)\n",
    "    ],\n",
    ").to_df()\n",
    "pprint.pp(feature_vector)"
   ]
  },
  {
   "cell_type": "code",
   "execution_count": 8,
   "id": "6eab7d52-ffbb-4f8a-a604-9ee195e58f14",
   "metadata": {},
   "outputs": [],
   "source": [
    "from feast_example.stream_job import ds\n",
    "from typing import get_type_hints, List, Dict, Optional\n",
    "\n",
    "from denormalized import Context, FeastDataStream"
   ]
  },
  {
   "cell_type": "code",
   "execution_count": 9,
   "id": "16d0cda3-f394-46c1-925b-21dbca115b34",
   "metadata": {},
   "outputs": [
    {
     "data": {
      "text/plain": [
       "{'predicate': denormalized.datafusion.expr.Expr,\n",
       " 'return': denormalized.feast_data_stream.FeastDataStream}"
      ]
     },
     "execution_count": 9,
     "metadata": {},
     "output_type": "execute_result"
    }
   ],
   "source": [
    "get_type_hints(ds.filter)"
   ]
  },
  {
   "cell_type": "code",
   "execution_count": 4,
   "id": "cf9a9688-52c9-47c0-8aaf-33b0c6db7854",
   "metadata": {},
   "outputs": [],
   "source": [
    "foo = FeastDataStream(ds)"
   ]
  }
 ],
 "metadata": {
  "kernelspec": {
   "display_name": "Python 3 (ipykernel)",
   "language": "python",
   "name": "python3"
  },
  "language_info": {
   "codemirror_mode": {
    "name": "ipython",
    "version": 3
   },
   "file_extension": ".py",
   "mimetype": "text/x-python",
   "name": "python",
   "nbconvert_exporter": "python",
   "pygments_lexer": "ipython3",
   "version": "3.12.4"
  }
 },
 "nbformat": 4,
 "nbformat_minor": 5
}

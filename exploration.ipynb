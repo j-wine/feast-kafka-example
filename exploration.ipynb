{
 "cells": [
  {
   "cell_type": "code",
   "execution_count": 1,
   "id": "00e5152d-e5df-405a-8305-42ef52f6210d",
   "metadata": {},
   "outputs": [],
   "source": [
    "%load_ext autoreload\n",
    "%autoreload 2"
   ]
  },
  {
   "cell_type": "code",
   "execution_count": 2,
   "id": "78777173-64fd-4f2a-b7a4-a4b75212ca4e",
   "metadata": {},
   "outputs": [],
   "source": [
    "import json\n",
    "import signal\n",
    "import sys\n",
    "import sqlite3\n",
    "import datetime\n",
    "\n",
    "from pathlib import Path\n",
    "from IPython.display import HTML, display\n",
    "from tabulate import tabulate\n",
    "import pandas as pd\n",
    "import pyarrow as pa\n",
    "import pyarrow.parquet as pq\n",
    "from denormalized import Context, DataStream\n",
    "from denormalized.datafusion import col\n",
    "from denormalized.datafusion import functions as f\n",
    "from denormalized.datafusion import lit\n",
    "from feast import FeatureStore\n",
    "from feast.data_source import PushMode\n",
    "\n",
    "from typing import List"
   ]
  },
  {
   "cell_type": "code",
   "execution_count": 45,
   "id": "f930c20f-b10f-49d6-9941-7c5ad1bbf62f",
   "metadata": {},
   "outputs": [],
   "source": [
    "try:\n",
    "    repo_path = Path(\"./src/feast_test/feature_repo/\")\n",
    "    fs = FeatureStore(repo_path=str(repo_path.resolve()))\n",
    "except Exception as e:\n",
    "    print(e)\n"
   ]
  },
  {
   "cell_type": "code",
   "execution_count": null,
   "id": "3ca0b193-765a-4998-8325-1e47651842d6",
   "metadata": {},
   "outputs": [],
   "source": [
    "fs.push(\"push_sensor_statistics\", df, to=PushMode.ONLINE)"
   ]
  },
  {
   "cell_type": "code",
   "execution_count": 8,
   "id": "99d8b17b-e8d7-4567-a97b-1ff3689cd549",
   "metadata": {},
   "outputs": [],
   "source": [
    "entities = fs.list_entities()"
   ]
  },
  {
   "cell_type": "code",
   "execution_count": 75,
   "id": "97a7346e-ae9a-4121-a7c6-d3877d866bb0",
   "metadata": {},
   "outputs": [
    {
     "name": "stdout",
     "output_type": "stream",
     "text": [
      "{'sensor_name': ['sensor_1', 'sensor_2'], 'avg_2': [57.61820697710939, 55.67418363036297], 'max': [114.97685605369205, 114.95627792014], 'min': [0.14954122417143056, 0.01963995076755265]}\n"
     ]
    }
   ],
   "source": [
    "feature_vector = fs.get_online_features(\n",
    "    features=[\n",
    "        \"sensor_statistics:max\",\n",
    "        \"sensor_statistics:min\",\n",
    "    ],\n",
    "    entity_rows=[\n",
    "        {\"sensor_name\": \"sensor_1\"},\n",
    "        {\"sensor_name\": \"sensor_2\"},\n",
    "    ],\n",
    ").to_dict()\n",
    "print(feature_vector)"
   ]
  },
  {
   "cell_type": "code",
   "execution_count": null,
   "id": "77b7c666-000d-48aa-b76d-324b6d6f8bfc",
   "metadata": {},
   "outputs": [],
   "source": [
    "# # Specify the path to your SQLite database file\n",
    "# with sqlite3.connect('./src/feast_test/feature_repo/data/online_store.db') as conn:\n",
    "#     # cursor = conn.cursor()\n",
    "#     # cursor.execute(\"SELECT * FROM denormalized_test_sensor_statistics;\")\n",
    "#     # rows = [r for r in cursor.fetchall()]\n",
    "#     # column_names = [description[0].ljust(50, \"*\") for description in cursor.description]\n",
    "\n",
    "#     # # rows = [[v.decode('utf-8', errors='ignore').strip() if isinstance(v, bytes) else v for v in row] for row in rows]\n",
    "#     # # rows = [[type(v) for v in row] for row in rows]\n",
    "\n",
    "#     # print(tabulate(rows, headers=column_names, tablefmt=\"double_outline\"))\n",
    "    \n",
    "#     # print(f\"\\nTotal number of rows: {len(rows)}\")\n",
    "\n",
    "#     from IPython.display import HTML, display\n",
    "#     df = pd.read_sql_query(\"SELECT * FROM denormalized_test_sensor_statistics;\", conn)\n",
    "#     display(df)"
   ]
  },
  {
   "cell_type": "code",
   "execution_count": null,
   "id": "a8f929c9-962a-44ad-94af-debf95b722a5",
   "metadata": {},
   "outputs": [],
   "source": [
    "parts = rows[0][0].split(b'\\x00\\x00\\x00')\n",
    "print(parts)\n",
    "# Decode each part and filter out non-printable strings\n",
    "decoded_parts = [part.decode('utf-8', errors='ignore').strip() for part in parts]\n",
    "print(decoded_parts)\n",
    "readable_parts = [part for part in decoded_parts if part]\n",
    "print(readable_parts)"
   ]
  },
  {
   "cell_type": "code",
   "execution_count": 4,
   "id": "d8d00838-c00e-48f6-a968-e9d1a217500c",
   "metadata": {},
   "outputs": [],
   "source": [
    "import os\n",
    "sys.path.append(os.path.abspath('./src'))\n",
    "from feast_test.stream_job import ds"
   ]
  },
  {
   "cell_type": "code",
   "execution_count": 5,
   "id": "f2b02121-6bed-4c81-97c8-ebadb62963ef",
   "metadata": {},
   "outputs": [],
   "source": [
    "schema = ds.schema()"
   ]
  },
  {
   "cell_type": "code",
   "execution_count": 6,
   "id": "4541804f-533a-43c4-948a-d82eb3c98203",
   "metadata": {},
   "outputs": [
    {
     "name": "stdout",
     "output_type": "stream",
     "text": [
      "sensor_name\n",
      "count\n",
      "min\n",
      "max\n",
      "average\n",
      "window_start_time\n",
      "window_end_time\n"
     ]
    }
   ],
   "source": [
    "for s in schema:\n",
    "    print(s.name)"
   ]
  },
  {
   "cell_type": "code",
   "execution_count": 13,
   "id": "31e6db87-f1ae-41c5-8aa7-37affaa895b8",
   "metadata": {},
   "outputs": [
    {
     "name": "stdout",
     "output_type": "stream",
     "text": [
      "[sensor_name-String, count-Int64, min-Float64, max-Float64, average-Float64, window_start_time-UnixTimestamp, window_end_time-UnixTimestamp]\n"
     ]
    }
   ],
   "source": [
    "t = ds.get_feast_schema()\n",
    "print(t)"
   ]
  },
  {
   "cell_type": "code",
   "execution_count": 45,
   "id": "10ccd1df-33a7-48e9-8704-792357a42e14",
   "metadata": {},
   "outputs": [],
   "source": [
    "from feast.type_map import pa_to_feast_value_type\n",
    "from feast.value_type import ValueType\n",
    "\n",
    "def ds_to_feast_types(ds: DataStream) -> List[ValueType]:\n",
    "    return [\n",
    "        (s.name, pa_to_feast_value_type(str(s.type))) for s in ds.schema()\n",
    "    ]"
   ]
  },
  {
   "cell_type": "code",
   "execution_count": 49,
   "id": "a579420d-5868-4557-8d09-5ab1f2fd7ab3",
   "metadata": {},
   "outputs": [
    {
     "name": "stdout",
     "output_type": "stream",
     "text": [
      "sensor_name ValueType.STRING\n",
      "count ValueType.INT64\n",
      "min ValueType.DOUBLE\n",
      "max ValueType.DOUBLE\n",
      "average ValueType.DOUBLE\n",
      "window_start_time ValueType.UNIX_TIMESTAMP\n",
      "window_end_time ValueType.UNIX_TIMESTAMP\n"
     ]
    }
   ],
   "source": [
    "for (name, feast_type) in ds_to_feast_types(ds):\n",
    "    print(name, feast_type)"
   ]
  },
  {
   "cell_type": "code",
   "execution_count": 54,
   "id": "0d45e425-fcec-4b23-83db-64e7265fecd0",
   "metadata": {},
   "outputs": [],
   "source": [
    "import importlib\n",
    "\n",
    "def is_feast_available():\n",
    "    return importlib.util.find_spec(\"feast\") is not None\n"
   ]
  },
  {
   "cell_type": "code",
   "execution_count": 55,
   "id": "cc599d28-44d9-4e2a-b216-abf3b010075e",
   "metadata": {},
   "outputs": [
    {
     "data": {
      "text/plain": [
       "True"
      ]
     },
     "execution_count": 55,
     "metadata": {},
     "output_type": "execute_result"
    }
   ],
   "source": [
    "is_feast_available()"
   ]
  }
 ],
 "metadata": {
  "kernelspec": {
   "display_name": "Python 3 (ipykernel)",
   "language": "python",
   "name": "python3"
  },
  "language_info": {
   "codemirror_mode": {
    "name": "ipython",
    "version": 3
   },
   "file_extension": ".py",
   "mimetype": "text/x-python",
   "name": "python",
   "nbconvert_exporter": "python",
   "pygments_lexer": "ipython3",
   "version": "3.12.4"
  }
 },
 "nbformat": 4,
 "nbformat_minor": 5
}

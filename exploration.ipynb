{
 "cells": [
  {
   "cell_type": "code",
   "execution_count": 1,
   "id": "00e5152d-e5df-405a-8305-42ef52f6210d",
   "metadata": {},
   "outputs": [],
   "source": [
    "%load_ext autoreload\n",
    "%autoreload 2"
   ]
  },
  {
   "cell_type": "code",
   "execution_count": 17,
   "id": "78777173-64fd-4f2a-b7a4-a4b75212ca4e",
   "metadata": {},
   "outputs": [],
   "source": [
    "import json\n",
    "import signal\n",
    "import sys\n",
    "import datetime\n",
    "\n",
    "from pathlib import Path\n",
    "from IPython.display import HTML, display\n",
    "import pandas as pd\n",
    "import pyarrow as pa\n",
    "import pyarrow.parquet as pq\n",
    "from feast import FeatureStore\n",
    "from feast.data_source import PushMode\n",
    "\n",
    "from typing import List\n",
    "import pprint"
   ]
  },
  {
   "cell_type": "code",
   "execution_count": 13,
   "id": "f930c20f-b10f-49d6-9941-7c5ad1bbf62f",
   "metadata": {},
   "outputs": [],
   "source": [
    "try:\n",
    "    repo_path = Path(\"./src/feast_example/feature_repo/\")\n",
    "    fs = FeatureStore(repo_path=str(repo_path.resolve()))\n",
    "except Exception as e:\n",
    "    print(e)"
   ]
  },
  {
   "cell_type": "code",
   "execution_count": 11,
   "id": "99d8b17b-e8d7-4567-a97b-1ff3689cd549",
   "metadata": {},
   "outputs": [
    {
     "name": "stdout",
     "output_type": "stream",
     "text": [
      "[Entity(\n",
      "    name='sensor',\n",
      "    value_type=<ValueType.STRING: 2>,\n",
      "    join_key='sensor_name',\n",
      "    description='A unique identifier for each sensor',\n",
      "    tags={},\n",
      "    owner='',\n",
      "    created_timestamp=datetime.datetime(2024, 10, 3, 17, 28, 32, 998530),\n",
      "    last_updated_timestamp=datetime.datetime(2024, 10, 3, 17, 28, 32, 998530)\n",
      ")]\n"
     ]
    }
   ],
   "source": [
    "entities = fs.list_entities()\n",
    "print(entities)"
   ]
  },
  {
   "cell_type": "code",
   "execution_count": 15,
   "id": "97a7346e-ae9a-4121-a7c6-d3877d866bb0",
   "metadata": {},
   "outputs": [
    {
     "name": "stderr",
     "output_type": "stream",
     "text": [
      "WARNING:root:Cannot use sqlite_vec for vector search\n"
     ]
    },
    {
     "name": "stdout",
     "output_type": "stream",
     "text": [
      "<feast.online_response.OnlineResponse object at 0x1080c1430>\n"
     ]
    },
    {
     "name": "stderr",
     "output_type": "stream",
     "text": [
      "/Users/matt/code/feast/sdk/python/feast/infra/online_stores/sqlite.py:214: DeprecationWarning: The default timestamp converter is deprecated as of Python 3.12; see the sqlite3 documentation for suggested replacement recipes\n",
      "  rows = cur.fetchall()\n"
     ]
    }
   ],
   "source": [
    "feature_vector = fs.get_online_features(\n",
    "    features=[\n",
    "        \"sensor_statistics:max\",\n",
    "        \"sensor_statistics:min\",\n",
    "    ],\n",
    "    entity_rows=[\n",
    "        {\"sensor_name\": f\"sensor_{x}\"} for x in range(0, 10)\n",
    "    ],\n",
    ")\n",
    "pprint.pp(feature_vector)"
   ]
  }
 ],
 "metadata": {
  "kernelspec": {
   "display_name": "Python 3 (ipykernel)",
   "language": "python",
   "name": "python3"
  },
  "language_info": {
   "codemirror_mode": {
    "name": "ipython",
    "version": 3
   },
   "file_extension": ".py",
   "mimetype": "text/x-python",
   "name": "python",
   "nbconvert_exporter": "python",
   "pygments_lexer": "ipython3",
   "version": "3.12.4"
  }
 },
 "nbformat": 4,
 "nbformat_minor": 5
}
